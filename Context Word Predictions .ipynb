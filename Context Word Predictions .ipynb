{
 "cells": [
  {
   "cell_type": "code",
   "execution_count": 7,
   "id": "69c3c9a0",
   "metadata": {},
   "outputs": [],
   "source": [
    "import re\n",
    "from tqdm import tqdm\n",
    "import numpy as np\n",
    "import pandas as pd\n",
    "\n",
    "with open('big.txt','r') as fd:\n",
    "    lines=fd.readlines()\n",
    "    words=[]\n",
    "    for line in lines:\n",
    "        words+=re.findall('\\w+',line.lower())"
   ]
  },
  {
   "cell_type": "markdown",
   "id": "34b28155",
   "metadata": {},
   "source": [
    "## 1.Getting the pairs\n",
    "## 2. Getting the Probability Distribution"
   ]
  },
  {
   "cell_type": "code",
   "execution_count": 8,
   "id": "307005c0",
   "metadata": {},
   "outputs": [],
   "source": [
    "def get_pairs(words,n):\n",
    "    data=[]\n",
    "    for i in range(len(words)-n):\n",
    "        data.append(' '.join(words[i:i+n]))\n",
    "    return data\n",
    "\n",
    "\n",
    "def get_prob_dist(data):\n",
    "    a=np.array(data)\n",
    "    pairs,count=np.unique(a,return_counts=True)\n",
    "    \n",
    "#     unique_pairs=list(set(data))\n",
    "    \n",
    "    prob_dist=[]\n",
    "    \n",
    "    for i in range(len(pairs)):\n",
    "        \n",
    "        middle_index=len(pairs[i].split(' '))//2\n",
    "        left_seq=' '.join(pairs[i].split(\" \")[:middle_index])\n",
    "        right_seq=' '.join(pairs[i].split(\" \")[middle_index+1:])\n",
    "        middle_seq=pairs[i].split(' ')[middle_index]\n",
    "    \n",
    "        prob_dist.append([pairs[i],left_seq,right_seq,middle_seq,count[i]])\n",
    "    return prob_dist\n",
    "\n",
    "\n",
    "data=get_pairs(words,7)\n",
    "prob_dist=get_prob_dist(data)"
   ]
  },
  {
   "cell_type": "code",
   "execution_count": 9,
   "id": "48480cbd",
   "metadata": {},
   "outputs": [
    {
     "data": {
      "text/html": [
       "<div>\n",
       "<style scoped>\n",
       "    .dataframe tbody tr th:only-of-type {\n",
       "        vertical-align: middle;\n",
       "    }\n",
       "\n",
       "    .dataframe tbody tr th {\n",
       "        vertical-align: top;\n",
       "    }\n",
       "\n",
       "    .dataframe thead th {\n",
       "        text-align: right;\n",
       "    }\n",
       "</style>\n",
       "<table border=\"1\" class=\"dataframe\">\n",
       "  <thead>\n",
       "    <tr style=\"text-align: right;\">\n",
       "      <th></th>\n",
       "      <th>seq</th>\n",
       "      <th>left_seq</th>\n",
       "      <th>right_seq</th>\n",
       "      <th>output</th>\n",
       "      <th>freq</th>\n",
       "    </tr>\n",
       "  </thead>\n",
       "  <tbody>\n",
       "    <tr>\n",
       "      <th>0</th>\n",
       "      <td>0 05 grm novarsenbillon injected into the</td>\n",
       "      <td>0 05 grm</td>\n",
       "      <td>injected into the</td>\n",
       "      <td>novarsenbillon</td>\n",
       "      <td>1</td>\n",
       "    </tr>\n",
       "    <tr>\n",
       "      <th>1</th>\n",
       "      <td>0 25 u and is distinguished from</td>\n",
       "      <td>0 25 u</td>\n",
       "      <td>is distinguished from</td>\n",
       "      <td>and</td>\n",
       "      <td>1</td>\n",
       "    </tr>\n",
       "    <tr>\n",
       "      <th>2</th>\n",
       "      <td>0 45 grm given intra muscularly or</td>\n",
       "      <td>0 45 grm</td>\n",
       "      <td>intra muscularly or</td>\n",
       "      <td>given</td>\n",
       "      <td>1</td>\n",
       "    </tr>\n",
       "    <tr>\n",
       "      <th>3</th>\n",
       "      <td>0 5 to 2 per cent in</td>\n",
       "      <td>0 5 to</td>\n",
       "      <td>per cent in</td>\n",
       "      <td>2</td>\n",
       "      <td>1</td>\n",
       "    </tr>\n",
       "    <tr>\n",
       "      <th>4</th>\n",
       "      <td>0 6 grm all these members of</td>\n",
       "      <td>0 6 grm</td>\n",
       "      <td>these members of</td>\n",
       "      <td>all</td>\n",
       "      <td>1</td>\n",
       "    </tr>\n",
       "  </tbody>\n",
       "</table>\n",
       "</div>"
      ],
      "text/plain": [
       "                                         seq  left_seq              right_seq  \\\n",
       "0  0 05 grm novarsenbillon injected into the  0 05 grm      injected into the   \n",
       "1           0 25 u and is distinguished from    0 25 u  is distinguished from   \n",
       "2         0 45 grm given intra muscularly or  0 45 grm    intra muscularly or   \n",
       "3                       0 5 to 2 per cent in    0 5 to            per cent in   \n",
       "4               0 6 grm all these members of   0 6 grm       these members of   \n",
       "\n",
       "           output  freq  \n",
       "0  novarsenbillon     1  \n",
       "1             and     1  \n",
       "2           given     1  \n",
       "3               2     1  \n",
       "4             all     1  "
      ]
     },
     "execution_count": 9,
     "metadata": {},
     "output_type": "execute_result"
    }
   ],
   "source": [
    "df=pd.DataFrame(prob_dist,columns=['seq','left_seq','right_seq','output','freq'])\n",
    "df.head()"
   ]
  },
  {
   "cell_type": "markdown",
   "id": "dbd8865a",
   "metadata": {},
   "source": [
    "## 3. Getting the Predictions"
   ]
  },
  {
   "cell_type": "code",
   "execution_count": 10,
   "id": "6485e51c",
   "metadata": {},
   "outputs": [
    {
     "data": {
      "text/html": [
       "<div>\n",
       "<style scoped>\n",
       "    .dataframe tbody tr th:only-of-type {\n",
       "        vertical-align: middle;\n",
       "    }\n",
       "\n",
       "    .dataframe tbody tr th {\n",
       "        vertical-align: top;\n",
       "    }\n",
       "\n",
       "    .dataframe thead th {\n",
       "        text-align: right;\n",
       "    }\n",
       "</style>\n",
       "<table border=\"1\" class=\"dataframe\">\n",
       "  <thead>\n",
       "    <tr style=\"text-align: right;\">\n",
       "      <th></th>\n",
       "      <th>seq</th>\n",
       "      <th>left_seq</th>\n",
       "      <th>right_seq</th>\n",
       "      <th>output</th>\n",
       "      <th>freq</th>\n",
       "    </tr>\n",
       "  </thead>\n",
       "  <tbody>\n",
       "    <tr>\n",
       "      <th>438457</th>\n",
       "      <td>illustration _copyright by underwood and under...</td>\n",
       "      <td>illustration _copyright by</td>\n",
       "      <td>and underwood n</td>\n",
       "      <td>underwood</td>\n",
       "      <td>17</td>\n",
       "    </tr>\n",
       "    <tr>\n",
       "      <th>277193</th>\n",
       "      <td>elson _history of the united states_ pp</td>\n",
       "      <td>elson _history of</td>\n",
       "      <td>united states_ pp</td>\n",
       "      <td>the</td>\n",
       "      <td>17</td>\n",
       "    </tr>\n",
       "    <tr>\n",
       "      <th>10866</th>\n",
       "      <td>_copyright by underwood and underwood n y</td>\n",
       "      <td>_copyright by underwood</td>\n",
       "      <td>underwood n y</td>\n",
       "      <td>and</td>\n",
       "      <td>17</td>\n",
       "    </tr>\n",
       "    <tr>\n",
       "      <th>191347</th>\n",
       "      <td>by underwood and underwood n y _</td>\n",
       "      <td>by underwood and</td>\n",
       "      <td>n y _</td>\n",
       "      <td>underwood</td>\n",
       "      <td>17</td>\n",
       "    </tr>\n",
       "    <tr>\n",
       "      <th>989422</th>\n",
       "      <td>to the project gutenberg literary archive foun...</td>\n",
       "      <td>to the project</td>\n",
       "      <td>literary archive foundation</td>\n",
       "      <td>gutenberg</td>\n",
       "      <td>14</td>\n",
       "    </tr>\n",
       "  </tbody>\n",
       "</table>\n",
       "</div>"
      ],
      "text/plain": [
       "                                                      seq  \\\n",
       "438457  illustration _copyright by underwood and under...   \n",
       "277193            elson _history of the united states_ pp   \n",
       "10866           _copyright by underwood and underwood n y   \n",
       "191347                   by underwood and underwood n y _   \n",
       "989422  to the project gutenberg literary archive foun...   \n",
       "\n",
       "                          left_seq                    right_seq     output  \\\n",
       "438457  illustration _copyright by              and underwood n  underwood   \n",
       "277193           elson _history of            united states_ pp        the   \n",
       "10866      _copyright by underwood                underwood n y        and   \n",
       "191347            by underwood and                        n y _  underwood   \n",
       "989422              to the project  literary archive foundation  gutenberg   \n",
       "\n",
       "        freq  \n",
       "438457    17  \n",
       "277193    17  \n",
       "10866     17  \n",
       "191347    17  \n",
       "989422    14  "
      ]
     },
     "execution_count": 10,
     "metadata": {},
     "output_type": "execute_result"
    }
   ],
   "source": [
    "df.sort_values(by='freq',ascending=False).head()"
   ]
  },
  {
   "cell_type": "code",
   "execution_count": 11,
   "id": "beecf63e",
   "metadata": {},
   "outputs": [],
   "source": [
    "def predict(seq):\n",
    "    left_seq=seq.split('_')[0].strip()\n",
    "    right_seq=seq.split('_')[1].strip()\n",
    "\n",
    "    df_=df[df['left_seq']==left_seq]\n",
    "    df_=df_[df_['right_seq']==right_seq]\n",
    "    return list(df_.sort_values(by='freq',ascending=False).head()['output'].values)"
   ]
  },
  {
   "cell_type": "markdown",
   "id": "3e08329d",
   "metadata": {},
   "source": [
    "# Prediction"
   ]
  },
  {
   "cell_type": "code",
   "execution_count": 18,
   "id": "6c056e2d",
   "metadata": {},
   "outputs": [
    {
     "data": {
      "text/plain": [
       "['gutenberg']"
      ]
     },
     "execution_count": 18,
     "metadata": {},
     "output_type": "execute_result"
    }
   ],
   "source": [
    "predict('to the project _ literary archive foundation')"
   ]
  }
 ],
 "metadata": {
  "kernelspec": {
   "display_name": "Python 3 (ipykernel)",
   "language": "python",
   "name": "python3"
  },
  "language_info": {
   "codemirror_mode": {
    "name": "ipython",
    "version": 3
   },
   "file_extension": ".py",
   "mimetype": "text/x-python",
   "name": "python",
   "nbconvert_exporter": "python",
   "pygments_lexer": "ipython3",
   "version": "3.11.5"
  }
 },
 "nbformat": 4,
 "nbformat_minor": 5
}
