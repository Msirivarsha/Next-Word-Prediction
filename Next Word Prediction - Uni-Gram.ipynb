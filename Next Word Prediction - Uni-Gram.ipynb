{
 "cells": [
  {
   "cell_type": "markdown",
   "id": "e773d805",
   "metadata": {},
   "source": [
    "# Making The Pairs | Uni-Gram"
   ]
  },
  {
   "cell_type": "code",
   "execution_count": 1,
   "id": "b0196d3e",
   "metadata": {},
   "outputs": [],
   "source": [
    "import re\n",
    "from tqdm import tqdm\n",
    "import numpy as np\n",
    "import pandas as pd"
   ]
  },
  {
   "cell_type": "markdown",
   "id": "e0e9663e",
   "metadata": {},
   "source": [
    "### Finding the pairs"
   ]
  },
  {
   "cell_type": "code",
   "execution_count": 2,
   "id": "791b2e5d",
   "metadata": {},
   "outputs": [],
   "source": [
    "with open('big.txt','r') as fd:\n",
    "    lines=fd.readlines()\n",
    "    \n",
    "    words=[]\n",
    "    for line in lines:\n",
    "        words+=re.findall('\\w+',line.lower())\n",
    "def get_pairs(words):\n",
    "    data=[]\n",
    "    for i in range(len(words)-1):\n",
    "        data.append(' '.join(words[i:i+2]))\n",
    "    return data\n",
    "data=get_pairs(words)"
   ]
  },
  {
   "cell_type": "code",
   "execution_count": 3,
   "id": "fefd4b5b",
   "metadata": {},
   "outputs": [
    {
     "data": {
      "text/plain": [
       "['the project',\n",
       " 'project gutenberg',\n",
       " 'gutenberg ebook',\n",
       " 'ebook of',\n",
       " 'of the',\n",
       " 'the adventures',\n",
       " 'adventures of',\n",
       " 'of sherlock',\n",
       " 'sherlock holmes',\n",
       " 'holmes by']"
      ]
     },
     "execution_count": 3,
     "metadata": {},
     "output_type": "execute_result"
    }
   ],
   "source": [
    "data[:10]"
   ]
  },
  {
   "cell_type": "code",
   "execution_count": 4,
   "id": "b00b1997",
   "metadata": {},
   "outputs": [
    {
     "data": {
      "text/plain": [
       "1115584"
      ]
     },
     "execution_count": 4,
     "metadata": {},
     "output_type": "execute_result"
    }
   ],
   "source": [
    "len(data)"
   ]
  },
  {
   "cell_type": "markdown",
   "id": "6ab39e97",
   "metadata": {},
   "source": [
    "# Finding the Probability Distribution"
   ]
  },
  {
   "cell_type": "markdown",
   "id": "b3e3da9e",
   "metadata": {},
   "source": [
    "### Finding occurance probabilities"
   ]
  },
  {
   "cell_type": "code",
   "execution_count": 5,
   "id": "f0fd91d2",
   "metadata": {},
   "outputs": [
    {
     "data": {
      "text/plain": [
       "101"
      ]
     },
     "execution_count": 5,
     "metadata": {},
     "output_type": "execute_result"
    }
   ],
   "source": [
    "data.count('sherlock holmes')"
   ]
  },
  {
   "cell_type": "code",
   "execution_count": 6,
   "id": "f47c60bb",
   "metadata": {},
   "outputs": [
    {
     "name": "stdout",
     "output_type": "stream",
     "text": [
      "390694 390694\n",
      "------------------------------\n",
      "total pairs :  1115584\n",
      "unique pairs :  390694\n",
      "------------------------------\n",
      "390694\n"
     ]
    }
   ],
   "source": [
    "#as the below function take much time we use numpy\n",
    "a=np.array(data)\n",
    "pair,count=np.unique(a,return_counts=True)\n",
    "print(len(pair),len(count))\n",
    "\n",
    "print('-'*30)\n",
    "print('total pairs : ',len(data))\n",
    "\n",
    "unique_pairs=list(set(data))\n",
    "\n",
    "print('unique pairs : ',len(pair))\n",
    "print('-'*30)\n",
    "\n",
    "prob_dist=[]\n",
    "for i in range(len(pair)):\n",
    "    prob_dist.append([pair[i],count[i],pair[i].split(' ')[-1]])\n",
    "print(len(prob_dist))\n",
    "\n",
    "# prob_dist=[]\n",
    "\n",
    "# for pair in tqdm(unique_pairs):\n",
    "#     prob_dist.append([pair,data.count(pair)])"
   ]
  },
  {
   "cell_type": "code",
   "execution_count": 7,
   "id": "26ecea2c",
   "metadata": {},
   "outputs": [
    {
     "data": {
      "text/plain": [
       "array(['0 05', '0 25', '0 45', ..., 'zweck ist', 'zygoma in',\n",
       "       'zygomatic and'], dtype='<U30')"
      ]
     },
     "execution_count": 7,
     "metadata": {},
     "output_type": "execute_result"
    }
   ],
   "source": [
    "pair"
   ]
  },
  {
   "cell_type": "code",
   "execution_count": 8,
   "id": "6b5ae337",
   "metadata": {},
   "outputs": [
    {
     "data": {
      "text/plain": [
       "array([1, 1, 1, ..., 1, 1, 1], dtype=int64)"
      ]
     },
     "execution_count": 8,
     "metadata": {},
     "output_type": "execute_result"
    }
   ],
   "source": [
    "count"
   ]
  },
  {
   "cell_type": "markdown",
   "id": "37081938",
   "metadata": {},
   "source": [
    "### Make The DataFrame"
   ]
  },
  {
   "cell_type": "code",
   "execution_count": 9,
   "id": "2c6f147f",
   "metadata": {},
   "outputs": [],
   "source": [
    "df=pd.DataFrame(prob_dist,columns=['pair','freq','out'])\n",
    "df=df[df['freq']>=5]\n",
    "df.head()\n",
    "\n",
    "def predict(word):\n",
    "    df_pred=[]\n",
    "\n",
    "    for i in df.values:\n",
    "        if i[0].split(' ')[0]==word:\n",
    "            df_pred.append([i[0],i[1],i[2]])\n",
    "    df_pred=pd.DataFrame(df_pred,columns=['in','freq','out'])\n",
    "    \n",
    "    return list(df_pred.sort_values(by='freq',ascending=False).head()['out'].values)"
   ]
  },
  {
   "cell_type": "code",
   "execution_count": 10,
   "id": "f23912fd",
   "metadata": {},
   "outputs": [
    {
     "data": {
      "text/plain": [
       "['same', 'french', 'first', 'old', 'emperor']"
      ]
     },
     "execution_count": 10,
     "metadata": {},
     "output_type": "execute_result"
    }
   ],
   "source": [
    "predict('the')\n",
    "#drawback is that it will create a loop if we pass same method for the first predicted word"
   ]
  },
  {
   "cell_type": "markdown",
   "id": "140ca32a",
   "metadata": {},
   "source": [
    "# Next Word Prediction - Auto Generated "
   ]
  },
  {
   "cell_type": "code",
   "execution_count": 11,
   "id": "8300f7eb",
   "metadata": {},
   "outputs": [
    {
     "name": "stdout",
     "output_type": "stream",
     "text": [
      "is a man who had been in the same time to the same time to the same time to the "
     ]
    }
   ],
   "source": [
    "word='this'\n",
    "for i in range(20):\n",
    "    preds=predict(word)\n",
    "    word=preds[0]\n",
    "    print(word,end=' ')"
   ]
  },
  {
   "cell_type": "markdown",
   "id": "7038cc62",
   "metadata": {},
   "source": [
    "# Next Word Prediction - Manual Generated"
   ]
  },
  {
   "cell_type": "code",
   "execution_count": 22,
   "id": "6f6bd832",
   "metadata": {},
   "outputs": [
    {
     "name": "stdout",
     "output_type": "stream",
     "text": [
      "['is', 'was', 'way', 'and', 'time']\n",
      "enter the index:1\n",
      "['a', 'the', 'not', 'in', 'to']\n",
      "enter the index:2\n",
      "['to', 'be', 'only', 'know', 'a']\n",
      "enter the index:3\n",
      "['that', 'what', 'how', 'i', 'the']\n",
      "enter the index:2\n",
      "['to', 'he', 'did', 'the', 'is']\n",
      "enter the index:1\n",
      "--------------------\n",
      "was not know how he\n",
      "--------------------\n"
     ]
    }
   ],
   "source": [
    "word='this'\n",
    "\n",
    "preds=[]\n",
    "for i in range(5):\n",
    "    pred=predict(word)\n",
    "    print(pred)\n",
    "    word=pred[int(input('enter the index:'))]\n",
    "    preds.append(word)\n",
    "    \n",
    "print('-'*20)\n",
    "print(' '.join(preds))\n",
    "print('-'*20)\n",
    "    "
   ]
  },
  {
   "cell_type": "code",
   "execution_count": null,
   "id": "e59c56e5",
   "metadata": {},
   "outputs": [],
   "source": []
  }
 ],
 "metadata": {
  "kernelspec": {
   "display_name": "Python 3 (ipykernel)",
   "language": "python",
   "name": "python3"
  },
  "language_info": {
   "codemirror_mode": {
    "name": "ipython",
    "version": 3
   },
   "file_extension": ".py",
   "mimetype": "text/x-python",
   "name": "python",
   "nbconvert_exporter": "python",
   "pygments_lexer": "ipython3",
   "version": "3.11.5"
  }
 },
 "nbformat": 4,
 "nbformat_minor": 5
}
