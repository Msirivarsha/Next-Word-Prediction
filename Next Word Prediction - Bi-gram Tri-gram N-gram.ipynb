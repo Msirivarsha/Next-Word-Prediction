{
 "cells": [
  {
   "cell_type": "code",
   "execution_count": 1,
   "id": "978c6c9b",
   "metadata": {},
   "outputs": [],
   "source": [
    "import re\n",
    "from tqdm import tqdm\n",
    "import numpy as np\n",
    "import pandas as pd"
   ]
  },
  {
   "cell_type": "markdown",
   "id": "e0c5d284",
   "metadata": {},
   "source": [
    "### Finding the pairs"
   ]
  },
  {
   "cell_type": "code",
   "execution_count": 2,
   "id": "02b7994a",
   "metadata": {},
   "outputs": [],
   "source": [
    "with open('big.txt','r') as fd:\n",
    "    lines=fd.readlines()\n",
    "    \n",
    "    words=[]\n",
    "    for line in lines:\n",
    "        words+=re.findall('\\w+',line.lower())\n",
    "def get_pairs(words,n):\n",
    "    n=n+1\n",
    "    data=[]\n",
    "    for i in range(len(words)-n):\n",
    "        data.append(' '.join(words[i:i+n]))\n",
    "    return data"
   ]
  },
  {
   "cell_type": "markdown",
   "id": "ef486db5",
   "metadata": {},
   "source": [
    "### Finding the Probability Distribution"
   ]
  },
  {
   "cell_type": "code",
   "execution_count": 3,
   "id": "461dc129",
   "metadata": {},
   "outputs": [],
   "source": [
    "def get_prob_dist(data):\n",
    "    a=np.array(data)\n",
    "    pair,count=np.unique(a,return_counts=True)\n",
    "\n",
    "    unique_pairs=list(set(data))\n",
    "\n",
    "    prob_dist=[]\n",
    "    for i in range(len(unique_pairs)):\n",
    "        prob_dist.append([unique_pairs[i],' '.join(unique_pairs[i].split(' ')[:-1]),unique_pairs[i].split(' ')[-1],count[i]])\n",
    "\n",
    "    return prob_dist\n"
   ]
  },
  {
   "cell_type": "code",
   "execution_count": 4,
   "id": "3d2eefc3",
   "metadata": {},
   "outputs": [],
   "source": [
    "data=get_pairs(words,4)\n",
    "prob_dist=get_prob_dist(data)"
   ]
  },
  {
   "cell_type": "code",
   "execution_count": 5,
   "id": "d9b3d888",
   "metadata": {},
   "outputs": [
    {
     "data": {
      "text/plain": [
       "[['resist looking at him so', 'resist looking at him', 'so', 1],\n",
       " ['to come to his gathering', 'to come to his', 'gathering', 1],\n",
       " ['sonya did not pull it', 'sonya did not pull', 'it', 1],\n",
       " ['the bridge with a triumphant', 'the bridge with a', 'triumphant', 1],\n",
       " ['michael ivanovich i know all', 'michael ivanovich i know', 'all', 1],\n",
       " ['discharge comparative cluster propose obstacle',\n",
       "  'discharge comparative cluster propose',\n",
       "  'obstacle',\n",
       "  1],\n",
       " ['or bay their necks with', 'or bay their necks', 'with', 1],\n",
       " ['here for he rose and', 'here for he rose', 'and', 1],\n",
       " ['obliged to have recourse to', 'obliged to have recourse', 'to', 1],\n",
       " ['of 437 438 changes in', 'of 437 438 changes', 'in', 1]]"
      ]
     },
     "execution_count": 5,
     "metadata": {},
     "output_type": "execute_result"
    }
   ],
   "source": [
    "prob_dist[:10]"
   ]
  },
  {
   "cell_type": "markdown",
   "id": "ac9db99d",
   "metadata": {},
   "source": [
    "### Make The DataFrame"
   ]
  },
  {
   "cell_type": "code",
   "execution_count": 6,
   "id": "e336c7ca",
   "metadata": {
    "scrolled": true
   },
   "outputs": [
    {
     "data": {
      "text/html": [
       "<div>\n",
       "<style scoped>\n",
       "    .dataframe tbody tr th:only-of-type {\n",
       "        vertical-align: middle;\n",
       "    }\n",
       "\n",
       "    .dataframe tbody tr th {\n",
       "        vertical-align: top;\n",
       "    }\n",
       "\n",
       "    .dataframe thead th {\n",
       "        text-align: right;\n",
       "    }\n",
       "</style>\n",
       "<table border=\"1\" class=\"dataframe\">\n",
       "  <thead>\n",
       "    <tr style=\"text-align: right;\">\n",
       "      <th></th>\n",
       "      <th>seq</th>\n",
       "      <th>inp</th>\n",
       "      <th>out</th>\n",
       "      <th>freq</th>\n",
       "    </tr>\n",
       "  </thead>\n",
       "  <tbody>\n",
       "    <tr>\n",
       "      <th>0</th>\n",
       "      <td>resist looking at him so</td>\n",
       "      <td>resist looking at him</td>\n",
       "      <td>so</td>\n",
       "      <td>1</td>\n",
       "    </tr>\n",
       "    <tr>\n",
       "      <th>1</th>\n",
       "      <td>to come to his gathering</td>\n",
       "      <td>to come to his</td>\n",
       "      <td>gathering</td>\n",
       "      <td>1</td>\n",
       "    </tr>\n",
       "    <tr>\n",
       "      <th>2</th>\n",
       "      <td>sonya did not pull it</td>\n",
       "      <td>sonya did not pull</td>\n",
       "      <td>it</td>\n",
       "      <td>1</td>\n",
       "    </tr>\n",
       "    <tr>\n",
       "      <th>3</th>\n",
       "      <td>the bridge with a triumphant</td>\n",
       "      <td>the bridge with a</td>\n",
       "      <td>triumphant</td>\n",
       "      <td>1</td>\n",
       "    </tr>\n",
       "    <tr>\n",
       "      <th>4</th>\n",
       "      <td>michael ivanovich i know all</td>\n",
       "      <td>michael ivanovich i know</td>\n",
       "      <td>all</td>\n",
       "      <td>1</td>\n",
       "    </tr>\n",
       "  </tbody>\n",
       "</table>\n",
       "</div>"
      ],
      "text/plain": [
       "                            seq                       inp         out  freq\n",
       "0      resist looking at him so     resist looking at him          so     1\n",
       "1      to come to his gathering            to come to his   gathering     1\n",
       "2         sonya did not pull it        sonya did not pull          it     1\n",
       "3  the bridge with a triumphant         the bridge with a  triumphant     1\n",
       "4  michael ivanovich i know all  michael ivanovich i know         all     1"
      ]
     },
     "execution_count": 6,
     "metadata": {},
     "output_type": "execute_result"
    }
   ],
   "source": [
    "df=pd.DataFrame(prob_dist,columns=['seq','inp','out','freq'])\n",
    "# df=df[df['freq']>=5]\n",
    "df.head()\n"
   ]
  },
  {
   "cell_type": "markdown",
   "id": "cd412508",
   "metadata": {},
   "source": [
    "### Predicting the word"
   ]
  },
  {
   "cell_type": "code",
   "execution_count": 7,
   "id": "8817a00a",
   "metadata": {},
   "outputs": [],
   "source": [
    "def predict(word):\n",
    "\n",
    "    if len(df[df['inp']==word]):\n",
    "        df_=df[df['inp']==word]\n",
    "        return df_.sort_values(by='freq').head()['out'].values\n",
    "    else:\n",
    "        return 'seq not present'"
   ]
  },
  {
   "cell_type": "code",
   "execution_count": 8,
   "id": "e3aee235",
   "metadata": {},
   "outputs": [
    {
     "data": {
      "text/plain": [
       "array(['for'], dtype=object)"
      ]
     },
     "execution_count": 8,
     "metadata": {},
     "output_type": "execute_result"
    }
   ],
   "source": [
    "predict('complaining of lassitude incapacity')"
   ]
  },
  {
   "cell_type": "code",
   "execution_count": 9,
   "id": "e42ed0fb",
   "metadata": {},
   "outputs": [
    {
     "data": {
      "text/plain": [
       "'seq not present'"
      ]
     },
     "execution_count": 9,
     "metadata": {},
     "output_type": "execute_result"
    }
   ],
   "source": [
    "predict('this')"
   ]
  },
  {
   "cell_type": "markdown",
   "id": "66deb9d0",
   "metadata": {},
   "source": [
    "## Next Word Prediction - Auto Generated "
   ]
  },
  {
   "cell_type": "code",
   "execution_count": 14,
   "id": "60f33051",
   "metadata": {},
   "outputs": [],
   "source": [
    "def pred_seq(seq,n):\n",
    "    output=[]\n",
    "    output.append(seq)\n",
    "\n",
    "    for i in range(n):\n",
    "\n",
    "        pred=predict(seq)\n",
    "    #     print(pred[0],end=' ')\n",
    "\n",
    "        seq=' '.join(seq.split(' ')[1:])+' '+pred[0]\n",
    "        output.append(pred[0])\n",
    "\n",
    "    return ' '.join(output)"
   ]
  },
  {
   "cell_type": "code",
   "execution_count": 20,
   "id": "04162289",
   "metadata": {},
   "outputs": [
    {
     "data": {
      "text/plain": [
       "'of the united states incurred in the revolutionary war a debt which those of little faith thought the country could never pay was reckoned at a figure well under 75 000 000 when the union pacific railroad was completed there were outstanding against it 27 000 000 in second mortgage bonds held by the'"
      ]
     },
     "execution_count": 20,
     "metadata": {},
     "output_type": "execute_result"
    }
   ],
   "source": [
    "pred_seq('of the united states',50)"
   ]
  },
  {
   "cell_type": "code",
   "execution_count": 18,
   "id": "33492a1d",
   "metadata": {},
   "outputs": [
    {
     "data": {
      "text/html": [
       "<div>\n",
       "<style scoped>\n",
       "    .dataframe tbody tr th:only-of-type {\n",
       "        vertical-align: middle;\n",
       "    }\n",
       "\n",
       "    .dataframe tbody tr th {\n",
       "        vertical-align: top;\n",
       "    }\n",
       "\n",
       "    .dataframe thead th {\n",
       "        text-align: right;\n",
       "    }\n",
       "</style>\n",
       "<table border=\"1\" class=\"dataframe\">\n",
       "  <thead>\n",
       "    <tr style=\"text-align: right;\">\n",
       "      <th></th>\n",
       "      <th>seq</th>\n",
       "      <th>inp</th>\n",
       "      <th>out</th>\n",
       "      <th>freq</th>\n",
       "    </tr>\n",
       "  </thead>\n",
       "  <tbody>\n",
       "    <tr>\n",
       "      <th>450975</th>\n",
       "      <td>fracture of the bone beneath</td>\n",
       "      <td>fracture of the bone</td>\n",
       "      <td>beneath</td>\n",
       "      <td>38</td>\n",
       "    </tr>\n",
       "    <tr>\n",
       "      <th>451986</th>\n",
       "      <td>management and only one fourth</td>\n",
       "      <td>management and only one</td>\n",
       "      <td>fourth</td>\n",
       "      <td>38</td>\n",
       "    </tr>\n",
       "    <tr>\n",
       "      <th>701067</th>\n",
       "      <td>meeting he was struck for</td>\n",
       "      <td>meeting he was struck</td>\n",
       "      <td>for</td>\n",
       "      <td>36</td>\n",
       "    </tr>\n",
       "    <tr>\n",
       "      <th>893586</th>\n",
       "      <td>of his own it was</td>\n",
       "      <td>of his own it</td>\n",
       "      <td>was</td>\n",
       "      <td>32</td>\n",
       "    </tr>\n",
       "    <tr>\n",
       "      <th>627289</th>\n",
       "      <td>the other so thick with</td>\n",
       "      <td>the other so thick</td>\n",
       "      <td>with</td>\n",
       "      <td>31</td>\n",
       "    </tr>\n",
       "    <tr>\n",
       "      <th>...</th>\n",
       "      <td>...</td>\n",
       "      <td>...</td>\n",
       "      <td>...</td>\n",
       "      <td>...</td>\n",
       "    </tr>\n",
       "    <tr>\n",
       "      <th>365913</th>\n",
       "      <td>logical inevitable result of the</td>\n",
       "      <td>logical inevitable result of</td>\n",
       "      <td>the</td>\n",
       "      <td>1</td>\n",
       "    </tr>\n",
       "    <tr>\n",
       "      <th>365914</th>\n",
       "      <td>they listen intently look about</td>\n",
       "      <td>they listen intently look</td>\n",
       "      <td>about</td>\n",
       "      <td>1</td>\n",
       "    </tr>\n",
       "    <tr>\n",
       "      <th>365915</th>\n",
       "      <td>cousin at moscow concerning dolokhov</td>\n",
       "      <td>cousin at moscow concerning</td>\n",
       "      <td>dolokhov</td>\n",
       "      <td>1</td>\n",
       "    </tr>\n",
       "    <tr>\n",
       "      <th>365916</th>\n",
       "      <td>one stone to appease the</td>\n",
       "      <td>one stone to appease</td>\n",
       "      <td>the</td>\n",
       "      <td>1</td>\n",
       "    </tr>\n",
       "    <tr>\n",
       "      <th>1089073</th>\n",
       "      <td>battery this was the attack</td>\n",
       "      <td>battery this was the</td>\n",
       "      <td>attack</td>\n",
       "      <td>1</td>\n",
       "    </tr>\n",
       "  </tbody>\n",
       "</table>\n",
       "<p>1089074 rows × 4 columns</p>\n",
       "</div>"
      ],
      "text/plain": [
       "                                          seq                           inp  \\\n",
       "450975           fracture of the bone beneath          fracture of the bone   \n",
       "451986         management and only one fourth       management and only one   \n",
       "701067              meeting he was struck for         meeting he was struck   \n",
       "893586                      of his own it was                 of his own it   \n",
       "627289                the other so thick with            the other so thick   \n",
       "...                                       ...                           ...   \n",
       "365913       logical inevitable result of the  logical inevitable result of   \n",
       "365914        they listen intently look about     they listen intently look   \n",
       "365915   cousin at moscow concerning dolokhov   cousin at moscow concerning   \n",
       "365916               one stone to appease the          one stone to appease   \n",
       "1089073           battery this was the attack          battery this was the   \n",
       "\n",
       "              out  freq  \n",
       "450975    beneath    38  \n",
       "451986     fourth    38  \n",
       "701067        for    36  \n",
       "893586        was    32  \n",
       "627289       with    31  \n",
       "...           ...   ...  \n",
       "365913        the     1  \n",
       "365914      about     1  \n",
       "365915   dolokhov     1  \n",
       "365916        the     1  \n",
       "1089073    attack     1  \n",
       "\n",
       "[1089074 rows x 4 columns]"
      ]
     },
     "execution_count": 18,
     "metadata": {},
     "output_type": "execute_result"
    }
   ],
   "source": [
    "df.sort_values(by='freq',ascending=False)"
   ]
  },
  {
   "cell_type": "code",
   "execution_count": 19,
   "id": "dc71727a",
   "metadata": {},
   "outputs": [
    {
     "data": {
      "text/plain": [
       "inp\n",
       "0 05 grm novarsenbillon           1\n",
       "rectangular flap of skin          1\n",
       "rectified spirit one ounce        1\n",
       "rectified spirit the painting     1\n",
       "rectify a mistake he              1\n",
       "                                 ..\n",
       "for a long time                  61\n",
       "met with in the                  62\n",
       "as a result of                   65\n",
       "at the same time                 65\n",
       "of the united states             81\n",
       "Length: 1032699, dtype: int64"
      ]
     },
     "execution_count": 19,
     "metadata": {},
     "output_type": "execute_result"
    }
   ],
   "source": [
    "df.groupby('inp').size().sort_values()"
   ]
  }
 ],
 "metadata": {
  "kernelspec": {
   "display_name": "Python 3 (ipykernel)",
   "language": "python",
   "name": "python3"
  },
  "language_info": {
   "codemirror_mode": {
    "name": "ipython",
    "version": 3
   },
   "file_extension": ".py",
   "mimetype": "text/x-python",
   "name": "python",
   "nbconvert_exporter": "python",
   "pygments_lexer": "ipython3",
   "version": "3.11.5"
  }
 },
 "nbformat": 4,
 "nbformat_minor": 5
}
